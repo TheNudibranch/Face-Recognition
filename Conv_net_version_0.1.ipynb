{
 "cells": [
  {
   "cell_type": "markdown",
   "metadata": {},
   "source": [
    "## First, we must import our dependancies \n",
    "\n",
    "#### Keras:  Building the actual network \n",
    "#### Numpy: is for loading in our data"
   ]
  },
  {
   "cell_type": "code",
   "execution_count": 1,
   "metadata": {},
   "outputs": [
    {
     "name": "stderr",
     "output_type": "stream",
     "text": [
      "Using TensorFlow backend.\n"
     ]
    }
   ],
   "source": [
    "from sklearn.model_selection import train_test_split\n",
    "import numpy as np\n",
    "import keras \n",
    "from keras.models import Sequential\n",
    "from keras.layers import Dense, Dropout, Activation, Flatten\n",
    "from keras.layers import Conv2D, MaxPooling2D"
   ]
  },
  {
   "cell_type": "markdown",
   "metadata": {},
   "source": [
    "First we load in the data that we have previously processed in a separate notebook"
   ]
  },
  {
   "cell_type": "code",
   "execution_count": 2,
   "metadata": {},
   "outputs": [
    {
     "name": "stdout",
     "output_type": "stream",
     "text": [
      "y shape:  (645, 1)\n",
      "X shape:  (645, 400, 400)\n"
     ]
    }
   ],
   "source": [
    "X_data = np.load('X_data.npy')\n",
    "y_data = np.load('y_data.npy')\n",
    "print('y shape: ', y_data.shape)\n",
    "print('X shape: ', X_data.shape)"
   ]
  },
  {
   "cell_type": "markdown",
   "metadata": {},
   "source": [
    "Since the data is rather ordered, that is, all the y data is sequential, we must randomly split the data. We are going to make our training data large, since we do not have many images to feed our network to start with."
   ]
  },
  {
   "cell_type": "code",
   "execution_count": 3,
   "metadata": {},
   "outputs": [
    {
     "name": "stderr",
     "output_type": "stream",
     "text": [
      "c:\\users\\ian\\appdata\\local\\programs\\python\\python35\\lib\\site-packages\\sklearn\\model_selection\\_split.py:2010: FutureWarning: From version 0.21, test_size will always complement train_size unless both are specified.\n",
      "  FutureWarning)\n"
     ]
    }
   ],
   "source": [
    "X_train, X_test, y_train, y_test = train_test_split(X_data, y_data, random_state=55, train_size=0.95)\n",
    "\n",
    "shape_1 = X_train.shape\n",
    "shape_2 = X_test.shape # We will need the shapes for later resizing "
   ]
  },
  {
   "cell_type": "markdown",
   "metadata": {},
   "source": [
    "There is still a small amount of data preprocessing that needs to occur. Such as one hot encoding, and making the pixel values between 0-1."
   ]
  },
  {
   "cell_type": "code",
   "execution_count": 4,
   "metadata": {
    "collapsed": true
   },
   "outputs": [],
   "source": [
    "X_train = X_train.astype('float32')\n",
    "X_test = X_test.astype('float32') #Converting the pixel values to floats\n",
    "\n",
    "X_train /= 255\n",
    "X_test /= 255 #This will make all the pixel values between 0 and 1\n",
    "\n",
    "y_train = keras.utils.to_categorical(y_train, 8)\n",
    "y_test = keras.utils.to_categorical(y_test, 8) # One-hot encoding\n",
    "\n",
    "epochs = 2\n",
    "batch_size = 150\n",
    "\n",
    "X_train_fix = np.resize(X_train, (shape_1[0], shape_1[1], shape_1[2], 1))\n",
    "X_test_fix = np.resize(X_test, (shape_2[0], shape_2[1], shape_2[2], 1))"
   ]
  },
  {
   "cell_type": "code",
   "execution_count": 5,
   "metadata": {},
   "outputs": [
    {
     "data": {
      "text/plain": [
       "(2, 400, 400, 1)"
      ]
     },
     "execution_count": 5,
     "metadata": {},
     "output_type": "execute_result"
    }
   ],
   "source": [
    "X_train_fix[1:3].shape"
   ]
  },
  {
   "cell_type": "markdown",
   "metadata": {},
   "source": [
    "We can now begin to build the network. The following network has the same scaling factors as the Standford paper. "
   ]
  },
  {
   "cell_type": "code",
   "execution_count": 6,
   "metadata": {},
   "outputs": [
    {
     "name": "stdout",
     "output_type": "stream",
     "text": [
      "_________________________________________________________________\n",
      "Layer (type)                 Output Shape              Param #   \n",
      "=================================================================\n",
      "conv2d_1 (Conv2D)            (None, 387, 387, 64)      12608     \n",
      "_________________________________________________________________\n",
      "activation_1 (Activation)    (None, 387, 387, 64)      0         \n",
      "_________________________________________________________________\n",
      "max_pooling2d_1 (MaxPooling2 (None, 129, 129, 64)      0         \n",
      "_________________________________________________________________\n",
      "dropout_1 (Dropout)          (None, 129, 129, 64)      0         \n",
      "_________________________________________________________________\n",
      "activation_2 (Activation)    (None, 129, 129, 64)      0         \n",
      "_________________________________________________________________\n",
      "conv2d_2 (Conv2D)            (None, 120, 120, 170)     1088170   \n",
      "_________________________________________________________________\n",
      "activation_3 (Activation)    (None, 120, 120, 170)     0         \n",
      "_________________________________________________________________\n",
      "max_pooling2d_2 (MaxPooling2 (None, 40, 40, 170)       0         \n",
      "_________________________________________________________________\n",
      "dropout_2 (Dropout)          (None, 40, 40, 170)       0         \n",
      "_________________________________________________________________\n",
      "activation_4 (Activation)    (None, 40, 40, 170)       0         \n",
      "_________________________________________________________________\n",
      "conv2d_3 (Conv2D)            (None, 35, 35, 340)       2081140   \n",
      "_________________________________________________________________\n",
      "activation_5 (Activation)    (None, 35, 35, 340)       0         \n",
      "_________________________________________________________________\n",
      "conv2d_4 (Conv2D)            (None, 30, 30, 340)       4161940   \n",
      "_________________________________________________________________\n",
      "activation_6 (Activation)    (None, 30, 30, 340)       0         \n",
      "_________________________________________________________________\n",
      "conv2d_5 (Conv2D)            (None, 25, 25, 340)       4161940   \n",
      "_________________________________________________________________\n",
      "activation_7 (Activation)    (None, 25, 25, 340)       0         \n",
      "_________________________________________________________________\n",
      "max_pooling2d_3 (MaxPooling2 (None, 8, 8, 340)         0         \n",
      "_________________________________________________________________\n",
      "activation_8 (Activation)    (None, 8, 8, 340)         0         \n",
      "_________________________________________________________________\n",
      "flatten_1 (Flatten)          (None, 21760)             0         \n",
      "_________________________________________________________________\n",
      "dense_1 (Dense)              (None, 4048)              88088528  \n",
      "_________________________________________________________________\n",
      "activation_9 (Activation)    (None, 4048)              0         \n",
      "_________________________________________________________________\n",
      "dropout_3 (Dropout)          (None, 4048)              0         \n",
      "_________________________________________________________________\n",
      "dense_2 (Dense)              (None, 4048)              16390352  \n",
      "_________________________________________________________________\n",
      "activation_10 (Activation)   (None, 4048)              0         \n",
      "_________________________________________________________________\n",
      "dropout_4 (Dropout)          (None, 4048)              0         \n",
      "_________________________________________________________________\n",
      "dense_3 (Dense)              (None, 8)                 32392     \n",
      "=================================================================\n",
      "Total params: 116,017,070\n",
      "Trainable params: 116,017,070\n",
      "Non-trainable params: 0\n",
      "_________________________________________________________________\n"
     ]
    }
   ],
   "source": [
    "model = Sequential()\n",
    "\n",
    "#First layer 14x14x64\n",
    "model.add(Conv2D(64, 14, input_shape=(400,400,1)))\n",
    "model.add(Activation('relu'))\n",
    "model.add(MaxPooling2D(pool_size=(3,3)))\n",
    "model.add(Dropout(0.25))\n",
    "model.add(Activation('relu'))\n",
    "\n",
    "#Second Layer 10x10x170\n",
    "model.add(Conv2D(170, (10,10)))\n",
    "model.add(Activation('relu'))\n",
    "model.add(MaxPooling2D(pool_size=(3,3)))\n",
    "model.add(Dropout(0.25))\n",
    "model.add(Activation('relu'))\n",
    "\n",
    "#Third Layer 6x6x340\n",
    "model.add(Conv2D(340, (6,6)))\n",
    "model.add(Activation('relu'))\n",
    "\n",
    "#Fourth Layer 6x6x340\n",
    "model.add(Conv2D(340, (6,6)))\n",
    "model.add(Activation('relu'))\n",
    "\n",
    "#Fifth layer 6x6x340\n",
    "model.add(Conv2D(340, (6,6)))\n",
    "model.add(Activation('relu'))\n",
    "model.add(MaxPooling2D(pool_size=(3,3)))\n",
    "model.add(Activation('relu'))\n",
    "\n",
    "# Sixth layer: Fully connected 4048x1\n",
    "model.add(Flatten())\n",
    "model.add(Dense(4048))\n",
    "model.add(Activation('relu'))\n",
    "model.add(Dropout(0.25))\n",
    "\n",
    "#Seventh Layer: Fully connected 4048x1\n",
    "model.add(Dense(4048))\n",
    "model.add(Activation('relu'))\n",
    "model.add(Dropout(0.25))\n",
    "\n",
    "#Eigth Layer: Fully connected 8x1\n",
    "model.add(Dense(8, activation='softmax'))\n",
    "\n",
    "model.summary()"
   ]
  },
  {
   "cell_type": "code",
   "execution_count": 7,
   "metadata": {},
   "outputs": [
    {
     "name": "stdout",
     "output_type": "stream",
     "text": [
      "Epoch 1/1\n",
      "2/2 [==============================] - 27s - loss: 9.0971 - acc: 0.0000e+00     \n"
     ]
    },
    {
     "data": {
      "text/plain": [
       "<keras.callbacks.History at 0x3c5e9fe828>"
      ]
     },
     "execution_count": 7,
     "metadata": {},
     "output_type": "execute_result"
    }
   ],
   "source": [
    "model.compile(loss='categorical_crossentropy',\n",
    "             optimizer='adam',\n",
    "             metrics=['accuracy'])\n",
    "\n",
    "model.fit(X_train_fix[1:3], y_train[1:3], batch_size=1, epochs=1)"
   ]
  },
  {
   "cell_type": "code",
   "execution_count": null,
   "metadata": {
    "collapsed": true
   },
   "outputs": [],
   "source": []
  }
 ],
 "metadata": {
  "kernelspec": {
   "display_name": "Python 3",
   "language": "python",
   "name": "python3"
  },
  "language_info": {
   "codemirror_mode": {
    "name": "ipython",
    "version": 3
   },
   "file_extension": ".py",
   "mimetype": "text/x-python",
   "name": "python",
   "nbconvert_exporter": "python",
   "pygments_lexer": "ipython3",
   "version": "3.5.2"
  }
 },
 "nbformat": 4,
 "nbformat_minor": 2
}
